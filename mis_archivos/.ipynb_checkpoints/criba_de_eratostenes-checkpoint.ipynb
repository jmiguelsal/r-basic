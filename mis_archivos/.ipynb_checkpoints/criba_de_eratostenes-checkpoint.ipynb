{
 "cells": [
  {
   "cell_type": "code",
   "execution_count": 121,
   "metadata": {},
   "outputs": [],
   "source": [
    "numbers = []"
   ]
  },
  {
   "cell_type": "code",
   "execution_count": 122,
   "metadata": {},
   "outputs": [],
   "source": [
    "max_ = 100000"
   ]
  },
  {
   "cell_type": "code",
   "execution_count": 123,
   "metadata": {},
   "outputs": [],
   "source": [
    "for n in range(2,max_+1):\n",
    "    numbers.append(n)"
   ]
  },
  {
   "cell_type": "code",
   "execution_count": 124,
   "metadata": {},
   "outputs": [],
   "source": [
    "# print(' '.join(map(str, numbers)))"
   ]
  },
  {
   "cell_type": "code",
   "execution_count": 125,
   "metadata": {},
   "outputs": [
    {
     "name": "stdout",
     "output_type": "stream",
     "text": [
      "Fin\n",
      "9592\n"
     ]
    }
   ],
   "source": [
    "index_current_element = 0\n",
    "fin = False\n",
    "while index_current_element < len(numbers) and not fin:\n",
    "    # print(\"ok \"+repr(index_current_element)+\"-\"+repr(len(numbers)))\n",
    "    # print(' '.join(map(str, numbers)))\n",
    "    current_element = numbers[index_current_element]\n",
    "    \n",
    "    i = index_current_element+1\n",
    "    last_i = len(numbers)\n",
    "    while(i<last_i):\n",
    "        if(numbers[i]%current_element==0):\n",
    "            numbers.remove(numbers[i])\n",
    "            last_i-=1\n",
    "        else:\n",
    "            i+=1  \n",
    "    if current_element**2 >= numbers[len(numbers)-1]:\n",
    "        print('Fin')\n",
    "        print(len(numbers))\n",
    "        fin = True\n",
    "    index_current_element+=1"
   ]
  },
  {
   "cell_type": "code",
   "execution_count": null,
   "metadata": {},
   "outputs": [],
   "source": []
  }
 ],
 "metadata": {
  "kernelspec": {
   "display_name": "Python 3",
   "language": "python",
   "name": "python3"
  },
  "language_info": {
   "codemirror_mode": {
    "name": "ipython",
    "version": 3
   },
   "file_extension": ".py",
   "mimetype": "text/x-python",
   "name": "python",
   "nbconvert_exporter": "python",
   "pygments_lexer": "ipython3",
   "version": "3.7.3"
  }
 },
 "nbformat": 4,
 "nbformat_minor": 2
}
