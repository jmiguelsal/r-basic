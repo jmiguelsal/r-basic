{
 "cells": [
  {
   "cell_type": "markdown",
   "metadata": {},
   "source": [
    "# Repaso Python"
   ]
  },
  {
   "cell_type": "markdown",
   "metadata": {},
   "source": [
    "## 1. Escribe una secuencia de instrucciones que permitan leer un número real por pantalla y que muestre si el número es positivo o no."
   ]
  },
  {
   "cell_type": "code",
   "execution_count": 153,
   "metadata": {},
   "outputs": [
    {
     "name": "stdout",
     "output_type": "stream",
     "text": [
      "Escribe un número: 3\n",
      "El número es positivo.\n"
     ]
    }
   ],
   "source": [
    "n = float(input(\"Escribe un número: \"))\n",
    "\n",
    "if n > 0:\n",
    "    print(\"El número es positivo.\")\n",
    "elif n == 0:\n",
    "    print(\"El número no es positivo, es cero\")\n",
    "else:\n",
    "    print(\"El número no es positivo, es negativo.\")"
   ]
  },
  {
   "cell_type": "markdown",
   "metadata": {},
   "source": [
    "## 2. Escribe una secuencia de instrucciones que permitan leer un número real por pantalla y que muestre si el número está en el rango entre -5 y 5"
   ]
  },
  {
   "cell_type": "code",
   "execution_count": 151,
   "metadata": {},
   "outputs": [
    {
     "name": "stdout",
     "output_type": "stream",
     "text": [
      "Escribe un número: 3\n",
      "El número está en el rango entre -5 y 5.\n"
     ]
    }
   ],
   "source": [
    "n = float(input(\"Escribe un número: \"))\n",
    "\n",
    "if n > -5 and n < 5:\n",
    "    print(\"El número está en el rango entre -5 y 5.\")\n",
    "else:\n",
    "    print(\"El número No está en el rango entre -5 y 5.\")"
   ]
  },
  {
   "cell_type": "markdown",
   "metadata": {},
   "source": [
    "## 3. Escribe una secuencia de instrucciones que permitan leer las coordenadas de un punto (x, y) e indique en cuál de los cuatro cuadrantes se encuentra dicho punto."
   ]
  },
  {
   "cell_type": "code",
   "execution_count": 14,
   "metadata": {},
   "outputs": [
    {
     "name": "stdout",
     "output_type": "stream",
     "text": [
      "Está en el cuarto cuadrante\n"
     ]
    }
   ],
   "source": [
    "x = 3\n",
    "y = -20\n",
    "if x > 0 and y > 0:\n",
    "    print(\"Está en el primer cuadrante\")\n",
    "elif x < 0 and y > 0:\n",
    "    print(\"Está en el segundo cuadrante\")\n",
    "elif x < 0 and y < 0:\n",
    "    print(\"Está en el tercer cuadrante\")\n",
    "elif x > 0 and y < 0:\n",
    "    print(\"Está en el cuarto cuadrante\")\n",
    "    "
   ]
  },
  {
   "cell_type": "markdown",
   "metadata": {},
   "source": [
    "## 4. Escribe una secuencia de instrucciones que permitan leer dos números enteros y muestre el cociente de la división entera y el resto."
   ]
  },
  {
   "cell_type": "code",
   "execution_count": 1,
   "metadata": {},
   "outputs": [
    {
     "name": "stdout",
     "output_type": "stream",
     "text": [
      "Escribe un número: 5\n",
      "Escribe otro número: 2\n",
      "5/2\n",
      "El cociente: 2\n",
      "El resto: 1\n"
     ]
    }
   ],
   "source": [
    "x = int(input(\"Escribe un número: \"))\n",
    "y = int(input(\"Escribe otro número: \"))\n",
    "cociente = x//y\n",
    "resto = x%y\n",
    "print(str(x) + \"/\" + str(y))\n",
    "print(\"El cociente: \" + str(cociente))\n",
    "print(\"El resto: \" + str(resto))"
   ]
  },
  {
   "cell_type": "markdown",
   "metadata": {},
   "source": [
    "## 5. Escribe una secuencia de instrucciones que permitan leer un número entero es cuadrado perfecto o no (piensa la mejor forma de hacerlo con lo que has aprendido hasta ahora)"
   ]
  },
  {
   "cell_type": "code",
   "execution_count": 57,
   "metadata": {},
   "outputs": [],
   "source": [
    "import math"
   ]
  },
  {
   "cell_type": "code",
   "execution_count": 64,
   "metadata": {},
   "outputs": [],
   "source": [
    "def escuadradoperfecto(x):\n",
    "    rc = math.sqrt(x)\n",
    "    entera = int(rc)\n",
    "    decimal = rc - entera\n",
    "    return decimal == 0"
   ]
  },
  {
   "cell_type": "code",
   "execution_count": 68,
   "metadata": {},
   "outputs": [
    {
     "name": "stdout",
     "output_type": "stream",
     "text": [
      "Escribe un número: 49\n",
      "Es cuadrado perfecto\n"
     ]
    }
   ],
   "source": [
    "x = int(input(\"Escribe un número: \"))\n",
    "if escuadradoperfecto(x):\n",
    "    print(\"Es cuadrado perfecto\")\n",
    "else:\n",
    "    print(\"No es cuadrado perfecto\")"
   ]
  },
  {
   "cell_type": "markdown",
   "metadata": {},
   "source": [
    "## 6. Escribe una expresión que permita determinar si un número entero positivo puede corresponder a un año bisiesto o no. Se consideran años bisiestos aquellos cuyo número es divisible por cuatro excepto los años que son múltiplos de 100, a no ser que lo sean de 400 (por ejemplo el año 2000 fue bisiesto pero el 2100 no lo será)."
   ]
  },
  {
   "cell_type": "code",
   "execution_count": 126,
   "metadata": {},
   "outputs": [],
   "source": [
    "def bisiesto(year):\n",
    "    if year%4 == 0:\n",
    "        if year%100 != 0:\n",
    "            return True\n",
    "        elif year%400 == 0:\n",
    "            return True\n",
    "        \n",
    "    return False"
   ]
  },
  {
   "cell_type": "code",
   "execution_count": 131,
   "metadata": {
    "scrolled": true
   },
   "outputs": [
    {
     "data": {
      "text/plain": [
       "True"
      ]
     },
     "execution_count": 131,
     "metadata": {},
     "output_type": "execute_result"
    }
   ],
   "source": [
    "bisiesto(2104)"
   ]
  },
  {
   "cell_type": "markdown",
   "metadata": {},
   "source": [
    "## 7. Busca la imagen de un tablero de ajedrez en Google y fíjate en la nomenclatura de las casillas. Escribe una expresión lea una letra y un número de teclado correspondiente a una casilla de un tablero de ajedrez y nos indique si esta casilla es negra o blanca."
   ]
  },
  {
   "cell_type": "code",
   "execution_count": 146,
   "metadata": {},
   "outputs": [
    {
     "name": "stdout",
     "output_type": "stream",
     "text": [
      "Escribe un número: 8\n",
      "Escribe una letra: a\n"
     ]
    }
   ],
   "source": [
    "# True = Blanca\n",
    "# False = Negra\n",
    "n = int(input(\"Escribe un número: \"))\n",
    "l = str(input(\"Escribe una letra: \"))"
   ]
  },
  {
   "cell_type": "code",
   "execution_count": 147,
   "metadata": {},
   "outputs": [],
   "source": [
    "def blancanegra(n, l):\n",
    "    n = int(n)\n",
    "    \n",
    "    if n < 1 or n > 10:\n",
    "        return False\n",
    "    \n",
    "    if l == 'a' or l == 'A' or l == 'c' or l == 'C' or l == 'e' or l == 'E' or l == 'g' or l == 'G' or l == 'i' or l == 'I':\n",
    "        if n%2 == 0:\n",
    "            return 'Blanca'\n",
    "        else:\n",
    "            return 'Negra'\n",
    "    elif l == 'b' or l == 'B' or l == 'd' or l == 'D' or l == 'f' or l == 'F' or l == 'h' or l == 'H' or l == 'j' or l == 'J':\n",
    "        if n%2 == 0:\n",
    "            return 'Negra'\n",
    "        else:\n",
    "            return 'Blanca'\n",
    "    \n",
    "    return False\n",
    "        "
   ]
  },
  {
   "cell_type": "code",
   "execution_count": 149,
   "metadata": {},
   "outputs": [
    {
     "data": {
      "text/plain": [
       "'Blanca'"
      ]
     },
     "execution_count": 149,
     "metadata": {},
     "output_type": "execute_result"
    }
   ],
   "source": [
    "blancanegra(n, l)"
   ]
  }
 ],
 "metadata": {
  "kernelspec": {
   "display_name": "Python 3",
   "language": "python",
   "name": "python3"
  },
  "language_info": {
   "codemirror_mode": {
    "name": "ipython",
    "version": 3
   },
   "file_extension": ".py",
   "mimetype": "text/x-python",
   "name": "python",
   "nbconvert_exporter": "python",
   "pygments_lexer": "ipython3",
   "version": "3.7.3"
  }
 },
 "nbformat": 4,
 "nbformat_minor": 2
}
